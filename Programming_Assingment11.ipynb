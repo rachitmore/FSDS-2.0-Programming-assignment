{
 "cells": [
  {
   "cell_type": "markdown",
   "id": "76f23cd5",
   "metadata": {},
   "source": [
    "1. Write a Python program to find words which are greater than given length k?\n",
    "\n",
    "2. Write a Python program for removing i-th character from a string?\n",
    "\n",
    "3. Write a Python program to split and join a string?\n",
    "\n",
    "4. Write a Python to check if a given string is binary string or not?\n",
    "\n",
    "5. Write a Python program to find uncommon words from two Strings?\n",
    "\n",
    "6. Write a Python to find all duplicate characters in string?\n",
    "\n",
    "7. Write a Python Program to check if a string contains any special character?"
   ]
  },
  {
   "cell_type": "markdown",
   "id": "9c330cef",
   "metadata": {},
   "source": [
    "1. Write a Python program to find words which are greater than given length k?"
   ]
  },
  {
   "cell_type": "code",
   "execution_count": 1,
   "id": "78c98e27",
   "metadata": {},
   "outputs": [
    {
     "name": "stdout",
     "output_type": "stream",
     "text": [
      "['multidisciplinary', 'mathematics,', 'statistics,', 'intelligence,', 'engineering']\n"
     ]
    }
   ],
   "source": [
    "def find_greater_words(sentence,k):\n",
    "    sen = sentence.split()\n",
    "    lst = []\n",
    "    for i in sen:\n",
    "        if len(i)>k:\n",
    "            lst.append(i)\n",
    "    return lst\n",
    "\n",
    "sentence = \"\"\"Data science is the study of data to extract meaningful insights for business. \n",
    "            It is a multidisciplinary approach that combines principles and \n",
    "            practices from the fields of mathematics, statistics, artificial intelligence, and \n",
    "            computer engineering to analyze large amounts of data\"\"\"\n",
    "k = 10\n",
    "print(find_greater_words(sentence,k))"
   ]
  },
  {
   "cell_type": "markdown",
   "id": "63dc2ea5",
   "metadata": {},
   "source": [
    "2. Write a Python program for removing i-th character from a string?\n"
   ]
  },
  {
   "cell_type": "code",
   "execution_count": 2,
   "id": "ce72b648",
   "metadata": {},
   "outputs": [
    {
     "name": "stdout",
     "output_type": "stream",
     "text": [
      "S character is removed\n",
      "Data cience\n"
     ]
    }
   ],
   "source": [
    "def remove_i_th_character(string,i):\n",
    "    string = string.replace(string[i],\"\")\n",
    "    \n",
    "    return string\n",
    "string = \"Data Science\"\n",
    "i_th = 5\n",
    "print(f\"{string[5]} character is removed\")\n",
    "print(remove_i_th_character(string,i_th))\n"
   ]
  },
  {
   "cell_type": "markdown",
   "id": "2c5f7a3a",
   "metadata": {},
   "source": [
    "3. Write a Python program to split and join a string?"
   ]
  },
  {
   "cell_type": "code",
   "execution_count": 3,
   "id": "330b7c28",
   "metadata": {},
   "outputs": [
    {
     "name": "stdout",
     "output_type": "stream",
     "text": [
      "Here are result of split : ['Data', 'science', 'is', 'the', 'study', 'of', 'data', 'to', 'extract', 'meaningful', 'insights', 'for', 'business.']\n",
      "here are result of join : Data science is the study of data to extract meaningful insights for business.\n"
     ]
    }
   ],
   "source": [
    "class string:\n",
    "    def __init__(self,s):\n",
    "        self.s = s\n",
    "    def split(self,char):\n",
    "        l = self.s.split(char)\n",
    "        return l\n",
    "    \n",
    "    def join(self,char):\n",
    "        j = char.join(self.split(\",\"))\n",
    "        return j\n",
    "    \n",
    "s = \"Data science is the study of data to extract meaningful insights for business.\" \n",
    "obj = string(s)\n",
    "print(f'Here are result of split : {obj.split(\" \")}')\n",
    "print(f'here are result of join : {obj.join(\",\")}')\n",
    "    "
   ]
  },
  {
   "cell_type": "markdown",
   "id": "1daf7651",
   "metadata": {},
   "source": [
    "4. Write a Python to check if a given string is binary string or not?"
   ]
  },
  {
   "cell_type": "code",
   "execution_count": 4,
   "id": "a5fb1ce3",
   "metadata": {},
   "outputs": [
    {
     "name": "stdout",
     "output_type": "stream",
     "text": [
      "True\n",
      "True\n",
      "False\n",
      "False\n"
     ]
    }
   ],
   "source": [
    "def is_binary(s):\n",
    "    s1 = {\"0\",\"1\"}\n",
    "    s2 = set(s)\n",
    "    if s1 == s2:\n",
    "        return True\n",
    "    else:\n",
    "        return False\n",
    "        \n",
    "print(is_binary(\"01010101\"))\n",
    "print(is_binary(\"1010101\"))\n",
    "print(is_binary(\"01010109\"))\n",
    "print(is_binary(\"binarystring\"))"
   ]
  },
  {
   "cell_type": "markdown",
   "id": "52ddc31e",
   "metadata": {},
   "source": [
    "5. Write a Python program to find uncommon words from two Strings?"
   ]
  },
  {
   "cell_type": "code",
   "execution_count": 5,
   "id": "36d65e6c",
   "metadata": {},
   "outputs": [
    {
     "name": "stdout",
     "output_type": "stream",
     "text": [
      "['the', 'study', 'to', 'extract', 'statistics', 'collecting,', 'analysing', 'and', 'inferring']\n",
      "['facebook', 'people', 'communities', 'twitter', 'ideas', 'topics']\n"
     ]
    }
   ],
   "source": [
    "def uncommon_words(s1,s2):\n",
    "    l1 = s1.lower().split()\n",
    "    l2 = s2.lower().split()\n",
    "    lst = []\n",
    "    for i in l1:\n",
    "        if i not in l2:\n",
    "            lst.append(i)\n",
    "    for i in l2:\n",
    "        if i not in l1:\n",
    "            lst.append(i)\n",
    "    return lst\n",
    "s1 = \"Data science is the study of data to extract meaningful insights for business.\"\n",
    "s2 = \"Statistics is science of collecting, analysing and inferring data for meaningful insights for business.\"\n",
    "\n",
    "s3 = \"Facebook networks people and communities\" \n",
    "s4 = \"Twitter networks ideas and topics\"\n",
    "\n",
    "print(uncommon_words(s1,s2))\n",
    "print(uncommon_words(s3,s4))"
   ]
  },
  {
   "cell_type": "markdown",
   "id": "2f86338d",
   "metadata": {},
   "source": [
    "6. Write a Python to find all duplicate characters in string?"
   ]
  },
  {
   "cell_type": "code",
   "execution_count": 6,
   "id": "9d9efaac",
   "metadata": {},
   "outputs": [
    {
     "name": "stdout",
     "output_type": "stream",
     "text": [
      "['data', 'data']\n",
      "['for', 'for']\n"
     ]
    }
   ],
   "source": [
    "def common_words(s1):\n",
    "    l1 = s1.lower().split()\n",
    "    lst = []\n",
    "    for i in l1:\n",
    "        if l1.count(i)>1:\n",
    "            lst.append(i)\n",
    "    \n",
    "    return lst\n",
    "    \n",
    "\n",
    "s1 = \"Data science is the study of data to extract meaningful insights for business.\"\n",
    "s2 = \"Statistics is science of collecting, analysing and inferring data for meaningful insights for business.\"\n",
    "\n",
    "print(common_words(s1))\n",
    "print(common_words(s2))"
   ]
  },
  {
   "cell_type": "markdown",
   "id": "9794a35a",
   "metadata": {},
   "source": [
    "7. Write a Python Program to check if a string contains any special character?"
   ]
  },
  {
   "cell_type": "code",
   "execution_count": 7,
   "id": "1cea7278",
   "metadata": {},
   "outputs": [
    {
     "name": "stdout",
     "output_type": "stream",
     "text": [
      "True\n",
      "True\n",
      "False\n",
      "False\n"
     ]
    }
   ],
   "source": [
    "def special_character(s):\n",
    "    list_special_character = [\"~\", \"`\", \"!\", \"@\", \"#\", \"$\", \"%\", \"^\", \"&\", \"*\", \"-\", \"_\", \"+\", \"=\"]\n",
    "    flag = []\n",
    "    for i in s:\n",
    "        if i in list_special_character:\n",
    "            flag.append(True)\n",
    "        else:\n",
    "            flag.append(False)\n",
    "    if True in flag:\n",
    "        return True\n",
    "    else:\n",
    "        return False\n",
    "        \n",
    "s1 = \"ineuron$ai\"\n",
    "s2 = \"PhysicWala#ai\"\n",
    "s3 = \"ineuron.ai\"\n",
    "s4 = \"ineuron\"\n",
    "\n",
    "print(special_character(s1))\n",
    "print(special_character(s2))\n",
    "print(special_character(s3))\n",
    "print(special_character(s4))\n"
   ]
  }
 ],
 "metadata": {
  "kernelspec": {
   "display_name": "Python 3 (ipykernel)",
   "language": "python",
   "name": "python3"
  },
  "language_info": {
   "codemirror_mode": {
    "name": "ipython",
    "version": 3
   },
   "file_extension": ".py",
   "mimetype": "text/x-python",
   "name": "python",
   "nbconvert_exporter": "python",
   "pygments_lexer": "ipython3",
   "version": "3.9.13"
  }
 },
 "nbformat": 4,
 "nbformat_minor": 5
}
