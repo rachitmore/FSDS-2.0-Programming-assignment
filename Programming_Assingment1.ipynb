{
 "cells": [
  {
   "cell_type": "markdown",
   "id": "8cff4031",
   "metadata": {},
   "source": [
    "1.Write a Python program to print \"Hello Python\"?\n",
    "\n",
    "2.Write a Python program to do arithmetical operations addition and division.?\n",
    "\n",
    "3.Write a Python program to find the area of a triangle?\n",
    "\n",
    "4.Write a Python program to swap two variables?\n",
    "\n",
    "5.Write a Python program to generate a random number?"
   ]
  },
  {
   "cell_type": "markdown",
   "id": "da4b5f94",
   "metadata": {},
   "source": [
    "1.Write a Python program to print \"Hello Python\"?"
   ]
  },
  {
   "cell_type": "code",
   "execution_count": 1,
   "id": "686a7eef",
   "metadata": {},
   "outputs": [
    {
     "name": "stdout",
     "output_type": "stream",
     "text": [
      "Hello Python\n"
     ]
    }
   ],
   "source": [
    "print(\"Hello Python\")"
   ]
  },
  {
   "cell_type": "markdown",
   "id": "87445b92",
   "metadata": {},
   "source": [
    "2.Write a Python program to do arithmetical operations addition and division.?"
   ]
  },
  {
   "cell_type": "code",
   "execution_count": 2,
   "id": "b9a34487",
   "metadata": {},
   "outputs": [
    {
     "name": "stdout",
     "output_type": "stream",
     "text": [
      "Enter the first Number : 10\n",
      "Enter the Second Number : 20\n",
      "The operation is addition and result is 30.0\n",
      "The operation is division and result is 0.5\n"
     ]
    }
   ],
   "source": [
    "x = float(input(\"Enter the first Number : \"))\n",
    "y = float(input(\"Enter the Second Number : \"))\n",
    "addition = x + y\n",
    "division =x / y\n",
    "print(F\"The operation is addition and result is {addition}\")\n",
    "print(F\"The operation is division and result is {division}\")"
   ]
  },
  {
   "cell_type": "markdown",
   "id": "7a8fbb4c",
   "metadata": {},
   "source": [
    "3.Write a Python program to find the area of a triangle?"
   ]
  },
  {
   "cell_type": "code",
   "execution_count": 3,
   "id": "1c86ad75",
   "metadata": {},
   "outputs": [
    {
     "name": "stdout",
     "output_type": "stream",
     "text": [
      "Enter the length of base : 10\n",
      "Enter the height of triangle : 20\n",
      "The area of triangle whoes length of base is equal to 10.0 and height is equal to 20.0 is 100.0 \n"
     ]
    }
   ],
   "source": [
    "b = float(input(\"Enter the length of base : \"))\n",
    "h = float(input(\"Enter the height of triangle : \"))\n",
    "area_of_triangle = 0.5*b*h\n",
    "print(f\"The area of triangle whoes length of base is equal to {b} and height is equal to {h} is {area_of_triangle} \")"
   ]
  },
  {
   "cell_type": "markdown",
   "id": "785e23a7",
   "metadata": {},
   "source": [
    "4.Write a Python program to swap two variables?"
   ]
  },
  {
   "cell_type": "code",
   "execution_count": 4,
   "id": "bdb8566f",
   "metadata": {},
   "outputs": [
    {
     "name": "stdout",
     "output_type": "stream",
     "text": [
      "Enter the first value : 10\n",
      "Enter the Second Value : 20\n",
      "Before the swapping first value is 10 and second value is 20\n",
      "After the swapping first value is 20 and second value is 10\n"
     ]
    }
   ],
   "source": [
    "x=input(\"Enter the first value : \")\n",
    "y=input(\"Enter the Second Value : \")\n",
    "print(f\"Before the swapping first value is {x} and second value is {y}\")\n",
    "x,y=y,x\n",
    "print(f\"After the swapping first value is {x} and second value is {y}\")"
   ]
  },
  {
   "cell_type": "markdown",
   "id": "759b94b0",
   "metadata": {},
   "source": [
    "5.Write a Python program to generate a random number?"
   ]
  },
  {
   "cell_type": "code",
   "execution_count": 5,
   "id": "1eb4940c",
   "metadata": {},
   "outputs": [
    {
     "name": "stdout",
     "output_type": "stream",
     "text": [
      "Enter the value to generate a random number within : 100\n"
     ]
    },
    {
     "data": {
      "text/plain": [
       "98"
      ]
     },
     "execution_count": 5,
     "metadata": {},
     "output_type": "execute_result"
    }
   ],
   "source": [
    "import numpy as np\n",
    "\n",
    "n=int(input(\"Enter the value to generate a random number within : \"))\n",
    "x = np.random.randint(n)\n",
    "x"
   ]
  }
 ],
 "metadata": {
  "kernelspec": {
   "display_name": "Python 3 (ipykernel)",
   "language": "python",
   "name": "python3"
  },
  "language_info": {
   "codemirror_mode": {
    "name": "ipython",
    "version": 3
   },
   "file_extension": ".py",
   "mimetype": "text/x-python",
   "name": "python",
   "nbconvert_exporter": "python",
   "pygments_lexer": "ipython3",
   "version": "3.9.12"
  }
 },
 "nbformat": 4,
 "nbformat_minor": 5
}
