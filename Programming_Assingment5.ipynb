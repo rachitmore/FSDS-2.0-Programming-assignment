{
 "cells": [
  {
   "cell_type": "markdown",
   "id": "1de18bf0",
   "metadata": {},
   "source": [
    "1.Write a Python Program to Find LCM?\n",
    "\n",
    "2.Write a Python Program to Find HCF?\n",
    "\n",
    "3.Write a Python Program to Convert Decimal to Binary, Octal and Hexadecimal?\n",
    "\n",
    "4.Write a Python Program To Find ASCII value of a character?\n",
    "\n",
    "5.Write a Python Program to Make a Simple Calculator with 4 basic mathematical operations?"
   ]
  },
  {
   "cell_type": "markdown",
   "id": "4a439b75",
   "metadata": {},
   "source": [
    "1.Write a Python Program to Find LCM?"
   ]
  },
  {
   "cell_type": "code",
   "execution_count": 1,
   "id": "54d7940c",
   "metadata": {},
   "outputs": [
    {
     "data": {
      "text/plain": [
       "20"
      ]
     },
     "execution_count": 1,
     "metadata": {},
     "output_type": "execute_result"
    }
   ],
   "source": [
    "def func_lcm(x, y):\n",
    "   if x > y:\n",
    "       greater = x\n",
    "   else:\n",
    "       greater = y\n",
    "\n",
    "   while(True):\n",
    "       if((greater % x == 0) and (greater % y == 0)):\n",
    "           lcm = greater\n",
    "           break\n",
    "       greater += 1\n",
    "\n",
    "   return lcm\n",
    "func_lcm(10,20)"
   ]
  },
  {
   "cell_type": "markdown",
   "id": "d2bc9cee",
   "metadata": {},
   "source": [
    "2.Write a Python Program to Find HCF?"
   ]
  },
  {
   "cell_type": "code",
   "execution_count": 2,
   "id": "d5246ded",
   "metadata": {},
   "outputs": [
    {
     "data": {
      "text/plain": [
       "10"
      ]
     },
     "execution_count": 2,
     "metadata": {},
     "output_type": "execute_result"
    }
   ],
   "source": [
    "def func_hcf(x, y):\n",
    "    if x > y:\n",
    "        smaller = y\n",
    "    else:\n",
    "        smaller = x\n",
    "    for i in range(1, smaller+1):\n",
    "        if((x % i == 0) and (y % i == 0)):\n",
    "            hcf = i \n",
    "    return hcf\n",
    "\n",
    "func_hcf(10,20)"
   ]
  },
  {
   "cell_type": "markdown",
   "id": "bb77e1d6",
   "metadata": {},
   "source": [
    "3.Write a Python Program to Convert Decimal to Binary, Octal and Hexadecimal?"
   ]
  },
  {
   "cell_type": "code",
   "execution_count": 3,
   "id": "8b3f01c9",
   "metadata": {},
   "outputs": [
    {
     "name": "stdout",
     "output_type": "stream",
     "text": [
      "The decimal value of 20 is:\n",
      "0b10100 in binary.\n",
      "0o24 in octal.\n",
      "0x14 in hexadecimal.\n"
     ]
    }
   ],
   "source": [
    "def convert(n):\n",
    "    print(\"The decimal value of\", n, \"is:\")\n",
    "    print(bin(n), \"in binary.\")\n",
    "    print(oct(n), \"in octal.\")\n",
    "    print(hex(n), \"in hexadecimal.\")\n",
    "\n",
    "convert(20)"
   ]
  },
  {
   "cell_type": "markdown",
   "id": "e1a32864",
   "metadata": {},
   "source": [
    "4.Write a Python Program To Find ASCII value of a character?"
   ]
  },
  {
   "cell_type": "code",
   "execution_count": 4,
   "id": "a7a95437",
   "metadata": {},
   "outputs": [
    {
     "name": "stdout",
     "output_type": "stream",
     "text": [
      "The ASCII value of a is 97\n",
      "The ASCII value of A is 65\n"
     ]
    }
   ],
   "source": [
    "def ascii_value(n):\n",
    "    print(f\"The ASCII value of {n} is {ord(n)}\")\n",
    "    \n",
    "ascii_value(\"a\")\n",
    "ascii_value(\"A\")"
   ]
  },
  {
   "cell_type": "markdown",
   "id": "d079ec85",
   "metadata": {},
   "source": [
    "5.Write a Python Program to Make a Simple Calculator with 4 basic mathematical operations?"
   ]
  },
  {
   "cell_type": "code",
   "execution_count": 5,
   "id": "3a428613",
   "metadata": {},
   "outputs": [
    {
     "name": "stdout",
     "output_type": "stream",
     "text": [
      "27\n",
      "10\n",
      "6\n",
      "2.0\n"
     ]
    }
   ],
   "source": [
    "class mathematical_operation:\n",
    "    def addition(n,m):\n",
    "        result = n + m\n",
    "        return result\n",
    "        \n",
    "    def substraction(n,m):\n",
    "        result = n-m\n",
    "        return result\n",
    "    \n",
    "    def multi(n,m):\n",
    "        result = n*m\n",
    "        return result\n",
    "    \n",
    "    def division(n,m):\n",
    "        result = n/m\n",
    "        return result\n",
    "    \n",
    "operation = mathematical_operation\n",
    "print(operation.addition(12,15))\n",
    "print(operation.substraction(20,10))\n",
    "print(operation.multi(2,3))\n",
    "print(operation.division(4,2))"
   ]
  }
 ],
 "metadata": {
  "kernelspec": {
   "display_name": "Python 3 (ipykernel)",
   "language": "python",
   "name": "python3"
  },
  "language_info": {
   "codemirror_mode": {
    "name": "ipython",
    "version": 3
   },
   "file_extension": ".py",
   "mimetype": "text/x-python",
   "name": "python",
   "nbconvert_exporter": "python",
   "pygments_lexer": "ipython3",
   "version": "3.9.13"
  }
 },
 "nbformat": 4,
 "nbformat_minor": 5
}
