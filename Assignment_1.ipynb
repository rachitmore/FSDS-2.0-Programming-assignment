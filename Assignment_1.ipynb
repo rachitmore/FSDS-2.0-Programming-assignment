{
 "cells": [
  {
   "cell_type": "markdown",
   "id": "4b6b1bd7",
   "metadata": {},
   "source": [
    "1. In the below elements which of them are values or an expression? eg:- values can be\n",
    "integer or string and expressions will be mathematical operators.\n",
    "*\n",
    "'hello'\n",
    "-87.8\n",
    "-\n",
    "/\n",
    "+\n",
    "6\n",
    "\n",
    "2. What is the difference between string and variable?\n",
    "\n",
    "3. Describe three different data types.\n",
    "\n",
    "4. What is an expression made up of? What do all expressions do?\n",
    "5. This assignment statements, like spam = 10. What is the difference between an\n",
    "expression and a statement?\n",
    "6. After running the following code, what does the variable bacon contain?\n",
    "bacon = 22\n",
    "bacon + 1\n",
    "\n",
    "7. What should the values of the following two terms be?\n",
    " \"spam\"+\"spamspam\"  ;\n",
    " \"spam\" * 3\n",
    "\n",
    "8. Why is eggs a valid variable name while 100 is invalid?\n",
    "\n",
    "9. What three functions can be used to get the integer, floating-point number, or string\n",
    "version of a value?\n",
    "10. Why does this expression cause an error? How can you fix it?\n",
    "\"I have eaten\" + 99 + \"burritos.\""
   ]
  },
  {
   "cell_type": "markdown",
   "id": "df040bf3",
   "metadata": {},
   "source": [
    "1. In the below elements which of them are values or an expression? eg:- values can be\n",
    "integer or string and expressions will be mathematical operators.\n",
    "* \n",
    "It is a multiplication operator,\n",
    "\n",
    "'hello' \n",
    "It is a string value,\n",
    "\n",
    "-87.8 \n",
    "It is an integer value\n",
    "\n",
    "- \n",
    "It is a substraction operator\n",
    "\n",
    "/ \n",
    "It is a division operator\n",
    "\n",
    "+\n",
    "It is an addition operator\n",
    "\n",
    "6\n",
    "it is an integer value\n",
    "\n"
   ]
  },
  {
   "cell_type": "markdown",
   "id": "b5002513",
   "metadata": {},
   "source": [
    "2. What is the difference between string and variable?\n",
    "*String is a data type in which you can perform some operation and it can be created by enclosing character and sequence of character in the single and double qoute ('' or \"\").\n",
    "example-\"str\",\"var\" and \"num\" \n",
    "\n",
    "*Variable is a symbolic name that is reference and pointer to an object and i.e., \n",
    "A container which store any object and can perform operation by calling. \n",
    "example-var,num,diff and test_func "
   ]
  },
  {
   "cell_type": "markdown",
   "id": "2a8e0cfc",
   "metadata": {},
   "source": [
    "3. Describe three different data types.\n",
    "The three different type of data types.\n",
    "\n",
    "1-TEXT DATA TYPE - String is a text type data which is character or sequence of character enclosed in single or double quote\n",
    "example-\"str\",\"var\" and \"num\" etc\n",
    "\n",
    "2-NUMERIC DATA TYPE they are zero, positive or negative whole numbers without a fractional part and having unlimited precision,it further divided into three types\n",
    "\n",
    "INTEGER-it is zero, positive and negative whole number without a fractional part.\n",
    "example- 1,2,3,0,-1,-2,-3\n",
    "\n",
    "FLOAT-it is also zero, +ve and -ve but with the unlimited precision values i.e., decimal numbers\n",
    "example-1.0,2.0,3.0\n",
    "\n",
    "COMPLEX-it is combination of real number and imaginary number.\n",
    "example-5+6j\n",
    "\n",
    "3-SEQUENCE DATA TYPE - they are collection of similar or different data type,\n",
    "it is further three type -\n",
    "\n",
    "LIST-List in python can be create by sequence of data type place inside the square bracket it is mutable.\n",
    "example-[1,1.0,\"string\"[4,5],(1,4)]\n",
    "\n",
    "TUPLE-Tuple in python can be create by sequence of data type place inside the parenthese and it is unmutable.\n",
    "example-(1,1.0,\"string\"[4,5],(1,4))\n",
    "\n",
    "RANGE-it is data type which return sequence of integers takes three argument as an integers first starting point,second end point and third jump of sequence."
   ]
  },
  {
   "cell_type": "markdown",
   "id": "c0312a39",
   "metadata": {},
   "source": [
    "4. What is an expression made up of? What do all expressions do?\n",
    "Expression made up of operands and operator i.e., x+1 where x operand and + is operator\n",
    "there are some type of expressions\n",
    "\n",
    "1.Constant Expressions: These are the expressions that have constant values only.\n",
    "\n",
    "x=10+2\n",
    "print(x)\n",
    "\n",
    "Arithmetic Expressions:An arithmetic expression is a combination of numeric values, operators, and sometimes parenthesis. The result of this type of expression is also a numeric value.\n",
    "\n",
    "x=10\n",
    "y=10\n",
    "z=x+y\n",
    "print(z)\n",
    "\n",
    "\n",
    "\n",
    "Integral Expressions: These are the kind of expressions that produce only integer results after all computations and type conversions.\n",
    "\n",
    "a=10\n",
    "b=12.0\n",
    "c=a+int(b)\n",
    "print(c)\n",
    "\n",
    "Floating Expressions: These are the kind of expressions which produce floating point numbers as result after all computations and type conversions.\n",
    "\n",
    "a=10.0\n",
    "b=12\n",
    "c=a+float(b)\n",
    "print(c)\n",
    "\n",
    "Relational Expressions: In these types of expressions, arithmetic expressions are written on both sides of relational operator (> , < , >= , <=).\n",
    "\n",
    "a=10\n",
    "b=12\n",
    "x=13\n",
    "y=15\n",
    "c=(a+b)>(x+y)\n",
    "print(c)\n",
    "\n",
    "Logical Expressions: These are kinds of expressions that result in either True or False. It basically specifies one or more conditions.\n",
    "\n",
    "a=(10==9)\n",
    "b=(12=12.0)\n",
    "c = a and b\n",
    "d = a or b\n",
    "print(c)\n",
    "print(d)\n",
    "\n",
    "Bitwise Expressions: These are the kind of expressions in which computations are performed at bit level.\n",
    "\n",
    "a = 12  \n",
    "x = a >> 2\n",
    "y = a << 1 \n",
    "print(x, y)\n",
    "\n",
    "Combinational Expressions: We can also use different types of expressions in a single expression\n",
    "\n",
    "a = 16\n",
    "b = 12 \n",
    "c = a + (b >> 1)\n",
    "print(c)"
   ]
  },
  {
   "cell_type": "markdown",
   "id": "020604cc",
   "metadata": {},
   "source": [
    "5. This assignment statements, like spam = 10. What is the difference between an\n",
    "expression and a statement?\n",
    "Assignment statement assign object to a name i.e., spam = 10 where spam is variable and 10 is object here\n",
    "\n",
    "EXPRESSION is a combination of values and functions that are combined and interpreted by the compiler to create a new value, as opposed to a STATEMENT which is just a standalone unit of execution and doesn't return anything.\n",
    "\n",
    "EXPRESSION example-x+2 where x is a operand and + is a operator\n",
    "STATEMENT example- print statement"
   ]
  },
  {
   "cell_type": "code",
   "execution_count": 1,
   "id": "a9efc60b",
   "metadata": {},
   "outputs": [
    {
     "data": {
      "text/plain": [
       "22"
      ]
     },
     "execution_count": 1,
     "metadata": {},
     "output_type": "execute_result"
    }
   ],
   "source": [
    "# 6. After running the following code, what does the variable bacon contain? -->\n",
    "bacon = 22\n",
    "bacon + 1\n",
    "#variable bacon contain\n",
    "bacon"
   ]
  },
  {
   "cell_type": "markdown",
   "id": "95146feb",
   "metadata": {},
   "source": [
    "7. What should the values of the following two terms be? \n",
    " \"spam\"+\"spamspam\"='spamspamspam' \n",
    "\"spam\" * 3 = 'spamspamspam'\n"
   ]
  },
  {
   "cell_type": "markdown",
   "id": "48041e47",
   "metadata": {},
   "source": [
    "8. Why is eggs a valid variable name while 100 is invalid?\n",
    "python has certain rules for making variables.\n",
    "1-variable should start from underscore or a letter \n",
    "2-variable can not start with numbers\n",
    "3-variable can only contain alpha numeric character or underscore \n",
    "4-variables in python are case sensitive \n",
    "eggs are valid and 100 is invalid because eggs obey the variable rules i.e.,rules 1 above\n",
    "whereas 100 does not obey the variable rules i.e.,rules- 2 above  "
   ]
  },
  {
   "cell_type": "code",
   "execution_count": 2,
   "id": "276de1b2",
   "metadata": {},
   "outputs": [
    {
     "data": {
      "text/plain": [
       "(int, float, str)"
      ]
     },
     "execution_count": 2,
     "metadata": {},
     "output_type": "execute_result"
    }
   ],
   "source": [
    "# <!-- 9. What three functions can be used to get the integer, floating-point number, or string\n",
    "# version of a value?\n",
    "# to get integer version of value - int(value)\n",
    "# to get float version of value - float(value)\n",
    "# to get string version of value - str(value) -->\n",
    "value = 10\n",
    "x = type(int(value))\n",
    "y = type(float(value))\n",
    "z = type(str(value))\n",
    "x,y,z"
   ]
  },
  {
   "cell_type": "code",
   "execution_count": 3,
   "id": "91ef8014",
   "metadata": {},
   "outputs": [
    {
     "data": {
      "text/plain": [
       "'I have eaten99burritos.'"
      ]
     },
     "execution_count": 3,
     "metadata": {},
     "output_type": "execute_result"
    }
   ],
   "source": [
    "#10. Why does this expression cause an error? How can you fix it?\n",
    "#\"I have eaten\" + 99 + \"burritos.\" this expression causing error\n",
    "#because python does not support concatenate of string with different data type\n",
    "#where 99 is integer ,so we need to convert this integer into string by enclosed it in single or double quote\n",
    "\"I have eaten\" + \"99\" + \"burritos.\""
   ]
  }
 ],
 "metadata": {
  "kernelspec": {
   "display_name": "Python 3 (ipykernel)",
   "language": "python",
   "name": "python3"
  },
  "language_info": {
   "codemirror_mode": {
    "name": "ipython",
    "version": 3
   },
   "file_extension": ".py",
   "mimetype": "text/x-python",
   "name": "python",
   "nbconvert_exporter": "python",
   "pygments_lexer": "ipython3",
   "version": "3.9.12"
  }
 },
 "nbformat": 4,
 "nbformat_minor": 5
}
