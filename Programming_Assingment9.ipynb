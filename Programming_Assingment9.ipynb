{
 "cells": [
  {
   "cell_type": "markdown",
   "id": "e637573f",
   "metadata": {},
   "source": [
    "1.Write a Python program to check if the given number is a Disarium Number?\n",
    "\n",
    "2.Write a Python program to print all disarium numbers between 1 to 100?\n",
    "\n",
    "3.Write a Python program to check if the given number is Happy Number?\n",
    "\n",
    "4.Write a Python program to print all happy numbers between 1 and 100?\n",
    "\n",
    "5.Write a Python program to determine whether the given number is a Harshad Number?\n",
    "\n",
    "6.Write a Python program to print all pronic numbers between 1 and 100?"
   ]
  },
  {
   "cell_type": "markdown",
   "id": "ac8975cc",
   "metadata": {},
   "source": [
    "1.Write a Python program to check if the given number is a Disarium Number?"
   ]
  },
  {
   "cell_type": "code",
   "execution_count": 1,
   "id": "8bc92097",
   "metadata": {},
   "outputs": [
    {
     "name": "stdout",
     "output_type": "stream",
     "text": [
      "False\n",
      "True\n",
      "True\n",
      "False\n"
     ]
    }
   ],
   "source": [
    "def disariumNumber(n):\n",
    "    string = str(n)\n",
    "    l1 = []\n",
    "    for i in string:\n",
    "        l1.append(int(i))\n",
    "    l2 = list(range(1,len(l1)+1))\n",
    "    \n",
    "    zipping = zip(l1,l2)\n",
    "    \n",
    "    l3 = []\n",
    "    for i,j in zipping:\n",
    "        l3.append(i**j)\n",
    "    \n",
    "    if sum(l3) == int(n):\n",
    "        return True\n",
    "    else:\n",
    "        return False\n",
    "    \n",
    "print(disariumNumber(13))    \n",
    "print(disariumNumber(135))\n",
    "print(disariumNumber(89))\n",
    "print(disariumNumber(80))"
   ]
  },
  {
   "cell_type": "markdown",
   "id": "c44d6466",
   "metadata": {},
   "source": [
    "2.Write a Python program to print all disarium numbers between 1 to 100?"
   ]
  },
  {
   "cell_type": "code",
   "execution_count": 2,
   "id": "25e73f31",
   "metadata": {},
   "outputs": [
    {
     "name": "stdout",
     "output_type": "stream",
     "text": [
      "[1, 2, 3, 4, 5, 6, 7, 8, 9, 89]\n"
     ]
    }
   ],
   "source": [
    "def all_disarium_number():\n",
    "    lst = []\n",
    "    for i in range(1,100):\n",
    "        if disariumNumber(i):\n",
    "            lst.append(i)\n",
    "    return lst\n",
    "\n",
    "print(all_disarium_number())"
   ]
  },
  {
   "cell_type": "markdown",
   "id": "59f0f532",
   "metadata": {},
   "source": [
    "3.Write a Python program to check if the given number is Happy Number?"
   ]
  },
  {
   "cell_type": "code",
   "execution_count": 3,
   "id": "cffaca09",
   "metadata": {},
   "outputs": [
    {
     "name": "stdout",
     "output_type": "stream",
     "text": [
      "False\n"
     ]
    }
   ],
   "source": [
    "def isHappy(n):\n",
    "    s = 0\n",
    "    while(n>0):\n",
    "        digit = n%10\n",
    "        s= s + digit**2        \n",
    "        n = n//10   \n",
    "    return s\n",
    "def check(num):\n",
    "    result = num\n",
    "    \n",
    "    while (result != 1 and result != 4):\n",
    "        result = isHappy(result)\n",
    "    if result == 1:\n",
    "        return True\n",
    "    else:\n",
    "        return False    \n",
    "        \n",
    "print(check(52))"
   ]
  },
  {
   "cell_type": "markdown",
   "id": "5f85c37e",
   "metadata": {},
   "source": [
    "4.Write a Python program to print all happy numbers between 1 and 100?"
   ]
  },
  {
   "cell_type": "code",
   "execution_count": 4,
   "id": "36793021",
   "metadata": {},
   "outputs": [
    {
     "name": "stdout",
     "output_type": "stream",
     "text": [
      "[1, 7, 10, 13, 19, 23, 28, 31, 32, 44, 49, 68, 70, 79, 82, 86, 91, 94, 97]\n"
     ]
    }
   ],
   "source": [
    "def happy_number_between():\n",
    "    lst = []\n",
    "    for i in range(1,100):\n",
    "        if check(i):\n",
    "            lst.append(i)\n",
    "        \n",
    "    return lst\n",
    "\n",
    "print(happy_number_between())       "
   ]
  },
  {
   "cell_type": "markdown",
   "id": "9964c844",
   "metadata": {},
   "source": [
    "5.Write a Python program to determine whether the given number is a Harshad Number?"
   ]
  },
  {
   "cell_type": "code",
   "execution_count": 5,
   "id": "709567c7",
   "metadata": {},
   "outputs": [
    {
     "name": "stdout",
     "output_type": "stream",
     "text": [
      "False\n"
     ]
    }
   ],
   "source": [
    "def checkHarshad(n) :\n",
    "    sum = 0\n",
    "    temp = n\n",
    "    while temp > 0 :\n",
    "        sum = sum + temp % 10\n",
    "        temp = temp // 10\n",
    "    \n",
    "    if n % sum == 0:\n",
    "        return True\n",
    "    else:\n",
    "        return False\n",
    "    \n",
    "print(checkHarshad(52))    "
   ]
  },
  {
   "cell_type": "markdown",
   "id": "754e391a",
   "metadata": {},
   "source": [
    "6.Write a Python program to print all pronic numbers between 1 and 100?"
   ]
  },
  {
   "cell_type": "code",
   "execution_count": 6,
   "id": "cd799825",
   "metadata": {},
   "outputs": [
    {
     "name": "stdout",
     "output_type": "stream",
     "text": [
      "[2, 6, 12, 20, 30, 42, 56, 72, 90]\n"
     ]
    }
   ],
   "source": [
    "import math\n",
    "def checkPronic (x) :\n",
    "    i = 0\n",
    "    flag = False\n",
    "    while ( i <= (int)(math.sqrt(x)) ) :\n",
    "         \n",
    "        if ( x == i * (i + 1)) :\n",
    "            flag = True\n",
    "        i = i + 1\n",
    " \n",
    "    return flag\n",
    "\n",
    "def check_between():\n",
    "    lst = []\n",
    "    for i in range(1,100):\n",
    "        if checkPronic(i):\n",
    "            lst.append(i)\n",
    "\n",
    "    return lst\n",
    "\n",
    "print(check_between())\n",
    "        "
   ]
  }
 ],
 "metadata": {
  "kernelspec": {
   "display_name": "Python 3 (ipykernel)",
   "language": "python",
   "name": "python3"
  },
  "language_info": {
   "codemirror_mode": {
    "name": "ipython",
    "version": 3
   },
   "file_extension": ".py",
   "mimetype": "text/x-python",
   "name": "python",
   "nbconvert_exporter": "python",
   "pygments_lexer": "ipython3",
   "version": "3.9.13"
  }
 },
 "nbformat": 4,
 "nbformat_minor": 5
}
