{
 "cells": [
  {
   "cell_type": "markdown",
   "id": "0bebeb6f",
   "metadata": {},
   "source": [
    "1.Write a Python Program to Display Fibonacci Sequence Using Recursion?\n",
    "\n",
    "2.Write a Python Program to Find Factorial of Number Using Recursion?\n",
    "\n",
    "3.Write a Python Program to calculate your Body Mass Index?\n",
    "\n",
    "4.Write a Python Program to calculate the natural logarithm of any number?\n",
    "\n",
    "5.Write a Python Program for cube sum of first n natural numbers?"
   ]
  },
  {
   "cell_type": "markdown",
   "id": "c83a812b",
   "metadata": {},
   "source": [
    "1.Write a Python Program to Display Fibonacci Sequence Using Recursion?"
   ]
  },
  {
   "cell_type": "code",
   "execution_count": 13,
   "id": "e64107c6",
   "metadata": {},
   "outputs": [
    {
     "name": "stdout",
     "output_type": "stream",
     "text": [
      "Enter the number : 10\n",
      "Fibonacci sequence:\n",
      "0\n",
      "1\n",
      "1\n",
      "2\n",
      "3\n",
      "5\n",
      "8\n",
      "13\n",
      "21\n",
      "34\n"
     ]
    }
   ],
   "source": [
    "def fib(n):\n",
    "   if n <= 1:\n",
    "       return n\n",
    "   else:\n",
    "       return(fib(n-1) + fib(n-2))\n",
    "nt = int(input(\"Enter the number : \"))\n",
    "if nt <= 0:\n",
    "   print(\"Plese enter a positive integer\")\n",
    "else:\n",
    "   print(\"Fibonacci sequence:\")\n",
    "   for i in range(nt):\n",
    "       print(fib(i))"
   ]
  },
  {
   "cell_type": "markdown",
   "id": "fb13fac3",
   "metadata": {},
   "source": [
    "2.Write a Python Program to Find Factorial of Number Using Recursion?"
   ]
  },
  {
   "cell_type": "code",
   "execution_count": 15,
   "id": "a225c228",
   "metadata": {},
   "outputs": [
    {
     "data": {
      "text/plain": [
       "120"
      ]
     },
     "execution_count": 15,
     "metadata": {},
     "output_type": "execute_result"
    }
   ],
   "source": [
    "def fact(n):\n",
    "    if n ==1 or n == 0:\n",
    "        return 1\n",
    "    else:\n",
    "        return n * fact(n-1)\n",
    "    \n",
    "fact(5)"
   ]
  },
  {
   "cell_type": "markdown",
   "id": "62a41001",
   "metadata": {},
   "source": [
    "3.Write a Python Program to calculate your Body Mass Index?"
   ]
  },
  {
   "cell_type": "code",
   "execution_count": 16,
   "id": "13a04084",
   "metadata": {},
   "outputs": [
    {
     "name": "stdout",
     "output_type": "stream",
     "text": [
      "You BMI is 19.333729922665082\n"
     ]
    }
   ],
   "source": [
    "def body_mass_index(height,weight):\n",
    "    \"\"\"This function takes height in cm and weight in kg\"\"\"\n",
    "    bmi = weight / (height/100)**2\n",
    "    print(f\"You BMI is {bmi}\")\n",
    "    \n",
    "body_mass_index(164,52)"
   ]
  },
  {
   "cell_type": "markdown",
   "id": "0060fe54",
   "metadata": {},
   "source": [
    "4.Write a Python Program to calculate the natural logarithm of any number?"
   ]
  },
  {
   "cell_type": "code",
   "execution_count": 26,
   "id": "52fc6163",
   "metadata": {},
   "outputs": [
    {
     "name": "stdout",
     "output_type": "stream",
     "text": [
      "Natural logarithm of 10 is : 2.302585092994046\n",
      "Logarithm base 2 of 10 is : 3.8073549220576037 \n"
     ]
    }
   ],
   "source": [
    "import math\n",
    "class Logarithm:\n",
    "    def __init__(self,n):\n",
    "        self.n = n\n",
    "    def base_e(self):\n",
    "        return f\"Natural logarithm of {self.n} is : {math.log(self.n)}\"\n",
    "\n",
    "    def base_n(self,n):\n",
    "        return f\"Logarithm base {n} of {self.n} is : {math.log(14,n)} \"\n",
    "    \n",
    "log = Logarithm(10)\n",
    "print(log.base_e())\n",
    "print(log.base_n(2))"
   ]
  },
  {
   "cell_type": "markdown",
   "id": "0062eef2",
   "metadata": {},
   "source": [
    "5.Write a Python Program for cube sum of first n natural numbers?"
   ]
  },
  {
   "cell_type": "code",
   "execution_count": 34,
   "id": "4f3dfefd",
   "metadata": {},
   "outputs": [
    {
     "data": {
      "text/plain": [
       "225"
      ]
     },
     "execution_count": 34,
     "metadata": {},
     "output_type": "execute_result"
    }
   ],
   "source": [
    "def cube_natural_number(n):\n",
    "    lst = []\n",
    "    for i in range(n+1):\n",
    "        lst.append(i**3)\n",
    "    sum_cube_natural_number = sum(lst)\n",
    "    \n",
    "    return sum_cube_natural_number\n",
    "\n",
    "cube_natural_number(5)"
   ]
  },
  {
   "cell_type": "code",
   "execution_count": 33,
   "id": "82e8b3d4",
   "metadata": {},
   "outputs": [
    {
     "data": {
      "text/plain": [
       "225"
      ]
     },
     "execution_count": 33,
     "metadata": {},
     "output_type": "execute_result"
    }
   ],
   "source": [
    "1+2**3+3**3+4**3+5**3"
   ]
  },
  {
   "cell_type": "code",
   "execution_count": null,
   "id": "1e833bfa",
   "metadata": {},
   "outputs": [],
   "source": []
  }
 ],
 "metadata": {
  "kernelspec": {
   "display_name": "Python 3 (ipykernel)",
   "language": "python",
   "name": "python3"
  },
  "language_info": {
   "codemirror_mode": {
    "name": "ipython",
    "version": 3
   },
   "file_extension": ".py",
   "mimetype": "text/x-python",
   "name": "python",
   "nbconvert_exporter": "python",
   "pygments_lexer": "ipython3",
   "version": "3.9.13"
  }
 },
 "nbformat": 4,
 "nbformat_minor": 5
}
