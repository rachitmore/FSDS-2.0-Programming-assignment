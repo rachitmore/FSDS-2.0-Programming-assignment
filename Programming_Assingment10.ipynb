{
 "cells": [
  {
   "cell_type": "markdown",
   "id": "55488cd3",
   "metadata": {},
   "source": [
    "1.Write a Python program to find sum of elements in list?\n",
    "\n",
    "2.Write a Python program to  Multiply all numbers in the list?\n",
    "\n",
    "3.Write a Python program to find smallest number in a list?\n",
    "\n",
    "4.Write a Python program to find largest number in a list?\n",
    "\n",
    "5.Write a Python program to find second largest number in a list?\n",
    "\n",
    "6.Write a Python program to find N largest elements from a list?\n",
    "\n",
    "7.Write a Python program to print even numbers in a list?\n",
    "\n",
    "8.Write a Python program to print odd numbers in a List?\n",
    "\n",
    "9.Write a Python program to Remove empty List from List?\n",
    "\n",
    "10.Write a Python program to Cloning or Copying a list?\n",
    "\n",
    "11.Write a Python program to Count occurrences of an element in a list?"
   ]
  },
  {
   "cell_type": "markdown",
   "id": "b770f0e6",
   "metadata": {},
   "source": [
    "1.Write a Python program to find sum of elements in list?"
   ]
  },
  {
   "cell_type": "code",
   "execution_count": 2,
   "id": "4c47090b",
   "metadata": {},
   "outputs": [
    {
     "name": "stdout",
     "output_type": "stream",
     "text": [
      "15\n",
      "150\n"
     ]
    }
   ],
   "source": [
    "def sum_of_elelements(l):\n",
    "    sum_l = 0\n",
    "    for i in l:\n",
    "        sum_l += i\n",
    "        \n",
    "    return sum_l\n",
    "print(sum_of_elelements([1,2,3,4,5]))\n",
    "print(sum_of_elelements([10,20,30,40,50]))"
   ]
  },
  {
   "cell_type": "markdown",
   "id": "cdfd04ea",
   "metadata": {},
   "source": [
    "2.Write a Python program to Multiply all numbers in the list?"
   ]
  },
  {
   "cell_type": "code",
   "execution_count": 3,
   "id": "82d8df4f",
   "metadata": {},
   "outputs": [
    {
     "name": "stdout",
     "output_type": "stream",
     "text": [
      "120\n",
      "12000000\n"
     ]
    }
   ],
   "source": [
    "def multi_of_elelements(l):\n",
    "    multi_l = 1\n",
    "    for i in l:\n",
    "        multi_l *= i\n",
    "        \n",
    "    return multi_l\n",
    "print(multi_of_elelements([1,2,3,4,5]))\n",
    "print(multi_of_elelements([10,20,30,40,50]))"
   ]
  },
  {
   "cell_type": "markdown",
   "id": "836cc042",
   "metadata": {},
   "source": [
    "3.Write a Python program to find smallest number in a list?"
   ]
  },
  {
   "cell_type": "code",
   "execution_count": 14,
   "id": "d2454f44",
   "metadata": {},
   "outputs": [
    {
     "data": {
      "text/plain": [
       "-90"
      ]
     },
     "execution_count": 14,
     "metadata": {},
     "output_type": "execute_result"
    }
   ],
   "source": [
    "def smallest_number(l):\n",
    "    small = 0\n",
    "    for i in l:\n",
    "        if i<small:\n",
    "            small = i\n",
    "    return small\n",
    "smallest_number([1,2,3,-50,-90,0,8,10])"
   ]
  },
  {
   "cell_type": "markdown",
   "id": "d889da52",
   "metadata": {},
   "source": [
    "4.Write a Python program to find largest number in a list?"
   ]
  },
  {
   "cell_type": "code",
   "execution_count": 16,
   "id": "c8995698",
   "metadata": {},
   "outputs": [
    {
     "data": {
      "text/plain": [
       "10"
      ]
     },
     "execution_count": 16,
     "metadata": {},
     "output_type": "execute_result"
    }
   ],
   "source": [
    "def largest_number(l):\n",
    "    large = 0\n",
    "    for i in l:\n",
    "        if i>large:\n",
    "            large = i\n",
    "    return large\n",
    "largest_number([1,2,3,-50,-90,0,8,10])"
   ]
  },
  {
   "cell_type": "markdown",
   "id": "e6ec1388",
   "metadata": {},
   "source": [
    "5.Write a Python program to find second largest number in a list?"
   ]
  },
  {
   "cell_type": "code",
   "execution_count": 5,
   "id": "d5d90a2e",
   "metadata": {},
   "outputs": [
    {
     "name": "stdout",
     "output_type": "stream",
     "text": [
      "40\n",
      "55\n"
     ]
    }
   ],
   "source": [
    "def second_largest_number(l):\n",
    "    l = sorted(l)\n",
    "    return l[-2]\n",
    "\n",
    "print(second_largest_number([10,20,30,55,10,40]))\n",
    "print(second_largest_number([-10,40,30,55,10,40,70]))"
   ]
  },
  {
   "cell_type": "markdown",
   "id": "57d8b2ec",
   "metadata": {},
   "source": [
    "6.Write a Python program to find N largest elements from a list?"
   ]
  },
  {
   "cell_type": "code",
   "execution_count": 10,
   "id": "50793702",
   "metadata": {},
   "outputs": [
    {
     "name": "stdout",
     "output_type": "stream",
     "text": [
      "35\n",
      "49\n",
      "51\n"
     ]
    }
   ],
   "source": [
    "def n_largest_element(l,n):\n",
    "    l = sorted(l)\n",
    "    return l[-n]\n",
    "\n",
    "print(n_largest_element([19,22,35,49,51],3))\n",
    "print(n_largest_element([19,22,35,49,51],2))\n",
    "print(n_largest_element([19,22,35,49,51],1))"
   ]
  },
  {
   "cell_type": "markdown",
   "id": "ac297624",
   "metadata": {},
   "source": [
    "7.Write a Python program to print even numbers in a list?"
   ]
  },
  {
   "cell_type": "code",
   "execution_count": 17,
   "id": "67609318",
   "metadata": {},
   "outputs": [
    {
     "data": {
      "text/plain": [
       "[2, 4, 8]"
      ]
     },
     "execution_count": 17,
     "metadata": {},
     "output_type": "execute_result"
    }
   ],
   "source": [
    "def even_number(l):\n",
    "    even = []\n",
    "    for i in l:\n",
    "        if i%2==0:\n",
    "            even.append(i)\n",
    "    \n",
    "    return even\n",
    "\n",
    "even_number([1,2,4,5,9,8,7])"
   ]
  },
  {
   "cell_type": "markdown",
   "id": "8a29ee28",
   "metadata": {},
   "source": [
    "8.Write a Python program to print odd numbers in a List?"
   ]
  },
  {
   "cell_type": "code",
   "execution_count": 19,
   "id": "ed34a7c4",
   "metadata": {},
   "outputs": [
    {
     "data": {
      "text/plain": [
       "[1, 5, 9, 7]"
      ]
     },
     "execution_count": 19,
     "metadata": {},
     "output_type": "execute_result"
    }
   ],
   "source": [
    "def odd_number(l):\n",
    "    odd = []\n",
    "    for i in l:\n",
    "        if i%2!=0:\n",
    "            odd.append(i)\n",
    "    \n",
    "    return odd\n",
    "\n",
    "odd_number([1,2,4,5,9,8,7])"
   ]
  },
  {
   "cell_type": "markdown",
   "id": "9d1b85bf",
   "metadata": {},
   "source": [
    "9.Write a Python program to Remove empty List from List?"
   ]
  },
  {
   "cell_type": "code",
   "execution_count": 21,
   "id": "e261be84",
   "metadata": {},
   "outputs": [
    {
     "data": {
      "text/plain": [
       "[1, 2, [1, 2, 3], [5, 6, 7], [9, 8]]"
      ]
     },
     "execution_count": 21,
     "metadata": {},
     "output_type": "execute_result"
    }
   ],
   "source": [
    "def remove_empty_list(l):\n",
    "    for i in l:\n",
    "        if type(i)==list:\n",
    "            if len(i)==0:\n",
    "                l.remove(i)\n",
    "    return l\n",
    "\n",
    "remove_empty_list([1,2,[1,2,3],[],[5,6,7],[],[9,8]])"
   ]
  },
  {
   "cell_type": "markdown",
   "id": "9542a218",
   "metadata": {},
   "source": [
    "10.Write a Python program to Cloning or Copying a list?"
   ]
  },
  {
   "cell_type": "code",
   "execution_count": 16,
   "id": "ef0b78b4",
   "metadata": {},
   "outputs": [
    {
     "name": "stdout",
     "output_type": "stream",
     "text": [
      " Type 1 copy : [1, 2, 34, 54]\n",
      " Type 2 copy : [1, 2, 34, 54]\n",
      " Type 3 copy : [1, 2, 34, 54]\n"
     ]
    }
   ],
   "source": [
    "def cloning(l):\n",
    "    l1_copy = l.copy()\n",
    "    l2_copy = l[:]\n",
    "    l3_copy = []\n",
    "    for i in l:\n",
    "        l3_copy.append(i)\n",
    "        \n",
    "    return f\" Type 1 copy : {l1_copy}\\n Type 2 copy : {l2_copy}\\n Type 3 copy : {l3_copy}\"\n",
    "\n",
    "print(cloning([1,2,34,54]))"
   ]
  },
  {
   "cell_type": "markdown",
   "id": "bdac9ed3",
   "metadata": {},
   "source": [
    "11.Write a Python program to Count occurrences of an element in a list?"
   ]
  },
  {
   "cell_type": "code",
   "execution_count": 42,
   "id": "a346b419",
   "metadata": {},
   "outputs": [
    {
     "name": "stdout",
     "output_type": "stream",
     "text": [
      "(22, 2)\n",
      "(44, 4)\n"
     ]
    }
   ],
   "source": [
    "def count_element(l,element):\n",
    "    unique_element_lst = list(set(l))\n",
    "    lst = []\n",
    "    for i in unique_element_lst:\n",
    "        lst.append((i,l.count(i)))\n",
    "    for i,j in lst:\n",
    "        if i == element:\n",
    "            return i,j\n",
    "\n",
    "print(count_element([1,22,22,33,33,4,4,4,4],22))\n",
    "print(count_element([1,22,22,33,33,44,44,44,44],44))"
   ]
  }
 ],
 "metadata": {
  "kernelspec": {
   "display_name": "Python 3 (ipykernel)",
   "language": "python",
   "name": "python3"
  },
  "language_info": {
   "codemirror_mode": {
    "name": "ipython",
    "version": 3
   },
   "file_extension": ".py",
   "mimetype": "text/x-python",
   "name": "python",
   "nbconvert_exporter": "python",
   "pygments_lexer": "ipython3",
   "version": "3.9.13"
  }
 },
 "nbformat": 4,
 "nbformat_minor": 5
}
