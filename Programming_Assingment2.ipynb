{
 "cells": [
  {
   "cell_type": "markdown",
   "id": "e8f1cd4c",
   "metadata": {},
   "source": [
    "1.Write a Python program to convert kilometers to miles?\n",
    "\n",
    "2.Write a Python program to convert Celsius to Fahrenheit?\n",
    "\n",
    "3.Write a Python program to display calendar?\n",
    "\n",
    "4.Write a Python program to solve quadratic equation?\n",
    "\n",
    "5.Write a Python program to swap two variables without temp variable?"
   ]
  },
  {
   "cell_type": "markdown",
   "id": "922e6fd1",
   "metadata": {},
   "source": [
    "1.Write a Python program to convert kilometers to miles?"
   ]
  },
  {
   "cell_type": "code",
   "execution_count": 1,
   "id": "6ca96631",
   "metadata": {},
   "outputs": [
    {
     "name": "stdout",
     "output_type": "stream",
     "text": [
      "Enter the kilometers to convert into miles : 1\n",
      "1.0 kilometer is equal to 0.621371 miles\n"
     ]
    }
   ],
   "source": [
    "kilometers=float(input(\"Enter the kilometers to convert into miles : \"))\n",
    "miles=0.621371*kilometers\n",
    "print(f\"{kilometers} kilometer is equal to {miles} miles\")"
   ]
  },
  {
   "cell_type": "markdown",
   "id": "a5417534",
   "metadata": {},
   "source": [
    "2.Write a Python program to convert Celsius to Fahrenheit?"
   ]
  },
  {
   "cell_type": "code",
   "execution_count": 2,
   "id": "39806857",
   "metadata": {},
   "outputs": [
    {
     "name": "stdout",
     "output_type": "stream",
     "text": [
      "Enter the value to convert Celsius to fahrenheit : 5\n",
      "5.0 Celsius is equal to 41.0 Fahrenheit\n"
     ]
    }
   ],
   "source": [
    "celsius=float(input(\"Enter the value to convert Celsius to fahrenheit : \"))\n",
    "fahrenheit = 1.8*celsius+32\n",
    "print(f\"{celsius} Celsius is equal to {fahrenheit} Fahrenheit\")"
   ]
  },
  {
   "cell_type": "markdown",
   "id": "61e3ea23",
   "metadata": {},
   "source": [
    "3.Write a Python program to display calendar?"
   ]
  },
  {
   "cell_type": "code",
   "execution_count": 4,
   "id": "c208d8d2",
   "metadata": {},
   "outputs": [
    {
     "name": "stdout",
     "output_type": "stream",
     "text": [
      "Enter year: 1998\n",
      "Enter month: 12\n",
      "   December 1998\n",
      "Mo Tu We Th Fr Sa Su\n",
      "    1  2  3  4  5  6\n",
      " 7  8  9 10 11 12 13\n",
      "14 15 16 17 18 19 20\n",
      "21 22 23 24 25 26 27\n",
      "28 29 30 31\n",
      "\n"
     ]
    }
   ],
   "source": [
    "# importing calendar module\n",
    "import calendar\n",
    "import datetime \n",
    "\n",
    "today=datetime.date.today()\n",
    "today_month=today.month\n",
    "today_year=today.year\n",
    "# today = list(today)\n",
    "yy = input(\"Enter year: \").lower()\n",
    "mm = input(\"Enter month: \").lower()\n",
    "\n",
    "lst=[\"this\",\"now\",\"this year\",\"this month\"]\n",
    "\n",
    "if yy.lower() in lst or mm.lower() == lst:\n",
    "    print(calendar.month(today_year,today_month))\n",
    "else:\n",
    "    print(calendar.month(int(yy),int(mm)))\n"
   ]
  },
  {
   "cell_type": "markdown",
   "id": "2e85100d",
   "metadata": {},
   "source": [
    "4.Write a Python program to solve quadratic equation?"
   ]
  },
  {
   "cell_type": "code",
   "execution_count": 5,
   "id": "179f8ab4",
   "metadata": {},
   "outputs": [
    {
     "name": "stdout",
     "output_type": "stream",
     "text": [
      "Quadratic equation is : aX**2 + bX + c = 0\n",
      "Enter a: 2\n",
      "Enter b: 4\n",
      "Enter c: 3\n",
      "Quadratic equation is : 2X**2 + 4X + 3 = 0\n",
      "The solution are (-1-0.7071067811865476j) and (-1+0.7071067811865476j)\n"
     ]
    }
   ],
   "source": [
    "print(\"Quadratic equation is : aX**2 + bX + c = 0\")\n",
    "import cmath  \n",
    "a = float(input('Enter a: '))  \n",
    "b = float(input('Enter b: '))  \n",
    "c = float(input('Enter c: '))  \n",
    "print(f\"Quadratic equation is : {int(a)}X**2 + {int(b)}X + {int(c)} = 0\")\n",
    "\n",
    "# calculate the discriminant  \n",
    "d = (b**2) - (4*a*c)  \n",
    "  \n",
    "# find two solutions  \n",
    "sol1 = (-b-cmath.sqrt(d))/(2*a)  \n",
    "sol2 = (-b+cmath.sqrt(d))/(2*a)  \n",
    "print('The solution are {0} and {1}'.format(sol1,sol2)) \n"
   ]
  },
  {
   "cell_type": "markdown",
   "id": "2d2e2534",
   "metadata": {},
   "source": [
    "5.Write a Python program to swap two variables without temp variable?"
   ]
  },
  {
   "cell_type": "code",
   "execution_count": 6,
   "id": "ea03fb3f",
   "metadata": {},
   "outputs": [
    {
     "name": "stdout",
     "output_type": "stream",
     "text": [
      "before swapping first variable is 10 and second variable is 20\n",
      "after swapping first variable is 20 and second variable is 10\n"
     ]
    }
   ],
   "source": [
    "variable1=10\n",
    "variable2=20\n",
    "#before swapping\n",
    "print(f\"before swapping first variable is {variable1} and second variable is {variable2}\")\n",
    "#after swapping\n",
    "variable1,variable2=variable2,variable1\n",
    "print(f\"after swapping first variable is {variable1} and second variable is {variable2}\")\n"
   ]
  }
 ],
 "metadata": {
  "kernelspec": {
   "display_name": "Python 3 (ipykernel)",
   "language": "python",
   "name": "python3"
  },
  "language_info": {
   "codemirror_mode": {
    "name": "ipython",
    "version": 3
   },
   "file_extension": ".py",
   "mimetype": "text/x-python",
   "name": "python",
   "nbconvert_exporter": "python",
   "pygments_lexer": "ipython3",
   "version": "3.9.13"
  }
 },
 "nbformat": 4,
 "nbformat_minor": 5
}
