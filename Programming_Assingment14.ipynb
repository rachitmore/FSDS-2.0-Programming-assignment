{
 "cells": [
  {
   "cell_type": "markdown",
   "id": "1accfc0d",
   "metadata": {},
   "source": [
    "Question 1:\n",
    "\n",
    "Define a class with a generator which can iterate the numbers, which are divisible by 7, between a given range 0 and n.\n",
    "\n",
    "Question 2:\n",
    "Write a program to compute the frequency of the words from the input. The output should output after sorting the key alphanumerically. \n",
    "\n",
    "Suppose the following input is supplied to the program:\n",
    "\n",
    "New to Python or choosing between Python 2 and Python 3? Read Python 2 or Python 3.\n",
    "\n",
    "Then, the output should be:\n",
    "\n",
    "2:2\n",
    "\n",
    "3.:1\n",
    "\n",
    "3?:1\n",
    "\n",
    "New:1\n",
    "\n",
    "Python:5\n",
    "\n",
    "Read:1\n",
    "\n",
    "and:1\n",
    "\n",
    "between:1\n",
    "\n",
    "choosing:1\n",
    "\n",
    "or:2\n",
    "\n",
    "to:1\n",
    "\n",
    "Question 3:\n",
    "\n",
    "\n",
    "\n",
    "Define a class Person and its two child classes: Male and Female. All classes have a method \"getGender\" which can print \"Male\" for Male class and \"Female\" for Female class.\n",
    "\n",
    "Question 4:\n",
    "Please write a program to generate all sentences where subject is in [\"I\", \"You\"] and verb is in [\"Play\", \"Love\"] and the object is in [\"Hockey\",\"Football\"].\n",
    "\n",
    "\n",
    "Question 5:\n",
    "Please write a program to compress and decompress the string \"hello world!hello world!hello world!hello world!\".\n",
    "\n",
    "Question 6:\n",
    "Please write a binary search function which searches an item in a sorted list. The function should return the index of element to be searched in the list."
   ]
  },
  {
   "cell_type": "markdown",
   "id": "c7a76f16",
   "metadata": {},
   "source": [
    "Question 1:\n",
    "Define a class with a generator which can iterate the numbers, which are divisible by 7, between a given range 0 and n."
   ]
  },
  {
   "cell_type": "code",
   "execution_count": 1,
   "id": "806eb9c8",
   "metadata": {},
   "outputs": [
    {
     "name": "stdout",
     "output_type": "stream",
     "text": [
      "0\n",
      "7\n",
      "14\n",
      "21\n",
      "28\n",
      "35\n",
      "42\n",
      "49\n",
      "56\n",
      "63\n",
      "70\n",
      "77\n",
      "84\n",
      "91\n",
      "98\n"
     ]
    }
   ],
   "source": [
    "class generator:\n",
    "    def __init__(self,n):\n",
    "        self.n = n\n",
    "    def iterator(self):\n",
    "        for i in range(self.n):\n",
    "            if i%7==0:\n",
    "                yield i\n",
    "obj = generator(100)\n",
    "for i in obj.iterator():\n",
    "    print(i)\n",
    "    "
   ]
  },
  {
   "cell_type": "markdown",
   "id": "d5cdfab2",
   "metadata": {},
   "source": [
    "Question 2: Write a program to compute the frequency of the words from the input. The output should output after sorting the key alphanumerically.\n",
    "\n",
    "Suppose the following input is supplied to the program:\n",
    "\n",
    "New to Python or choosing between Python 2 and Python 3? Read Python 2 or Python 3.\n",
    "\n",
    "Then, the output should be:\n",
    "\n",
    "2:2\n",
    "\n",
    "3.:1\n",
    "\n",
    "3?:1\n",
    "\n",
    "New:1\n",
    "\n",
    "Python:5\n",
    "\n",
    "Read:1\n",
    "\n",
    "and:1\n",
    "\n",
    "between:1\n",
    "\n",
    "choosing:1\n",
    "\n",
    "or:2\n",
    "\n",
    "to:1"
   ]
  },
  {
   "cell_type": "code",
   "execution_count": 2,
   "id": "5531f3ef",
   "metadata": {},
   "outputs": [
    {
     "name": "stdout",
     "output_type": "stream",
     "text": [
      "Enter the string : New to Python or choosing between Python 2 and Python 3? Read Python 2 or Python 3\n",
      "2:2\n",
      "3:1\n",
      "3?:1\n",
      "New:1\n",
      "Python:5\n",
      "Read:1\n",
      "and:1\n",
      "between:1\n",
      "choosing:1\n",
      "or:2\n",
      "to:1\n"
     ]
    }
   ],
   "source": [
    "string_list = input(\"Enter the string : \").split()\n",
    "string_set = sorted(set(string_list))\n",
    "\n",
    "\n",
    "for i in string_set:\n",
    "    print(f'{i}:{string_list.count(i)}')"
   ]
  },
  {
   "cell_type": "markdown",
   "id": "b15fb4e7",
   "metadata": {},
   "source": [
    "Question 3:\n",
    "Define a class Person and its two child classes: Male and Female. All classes have a method \"getGender\" which can print \"Male\" for Male class and \"Female\" for Female class."
   ]
  },
  {
   "cell_type": "code",
   "execution_count": 3,
   "id": "c2dddc1b",
   "metadata": {},
   "outputs": [
    {
     "name": "stdout",
     "output_type": "stream",
     "text": [
      "Male\n",
      "Female\n"
     ]
    }
   ],
   "source": [
    "class Person:\n",
    "    class Male:\n",
    "        def getGender():\n",
    "            return \"Male\"\n",
    "\n",
    "    class Female:\n",
    "        def getGender():\n",
    "            return \"Female\"\n",
    "            \n",
    "obj = Person()\n",
    "print(obj.Male.getGender())\n",
    "print(obj.Female.getGender())"
   ]
  },
  {
   "cell_type": "markdown",
   "id": "572a3d70",
   "metadata": {},
   "source": [
    "Question 4: Please write a program to generate all sentences where subject is in [\"I\", \"You\"] and verb is in [\"Play\", \"Love\"] and the object is in [\"Hockey\",\"Football\"]."
   ]
  },
  {
   "cell_type": "code",
   "execution_count": 4,
   "id": "91948d44",
   "metadata": {},
   "outputs": [
    {
     "name": "stdout",
     "output_type": "stream",
     "text": [
      "I  Play  Hockey\n",
      "I  Play  Football\n",
      "I  Love  Hockey\n",
      "I  Love  Football\n",
      "You  Play  Hockey\n",
      "You  Play  Football\n",
      "You  Love  Hockey\n",
      "You  Love  Football\n"
     ]
    }
   ],
   "source": [
    "def sentence_generator(subject,verb,objects):\n",
    "    \n",
    "    sentence_list = [f\"{s}  {v}  {o}\" for s in subject for v in verb for o in objects]\n",
    "    \n",
    "    for i in sentence_list:\n",
    "        print(i)\n",
    "\n",
    "sentence_generator([\"I\", \"You\"],[\"Play\", \"Love\"],[\"Hockey\",\"Football\"])"
   ]
  },
  {
   "cell_type": "markdown",
   "id": "7baa0fc1",
   "metadata": {},
   "source": [
    "Question 5: Please write a program to compress and decompress the string \"hello world!hello world!hello world!hello world!\"."
   ]
  },
  {
   "cell_type": "code",
   "execution_count": 5,
   "id": "675c04be",
   "metadata": {},
   "outputs": [
    {
     "name": "stdout",
     "output_type": "stream",
     "text": [
      "hello world! hello world! hello world! hello world! \n",
      "hello world!hello world!hello world!hello world!\n"
     ]
    }
   ],
   "source": [
    "def decompress(s):\n",
    "    l = s.split(\"!\")\n",
    "    s = \"! \"\n",
    "    s = s.join(l)\n",
    "    return s\n",
    "def compress(s):\n",
    "    l = s.split(\"!\")\n",
    "    s = \"!\"\n",
    "    s = s.join(l).replace(\"! \",\"!\")\n",
    "    return s\n",
    "\n",
    "print(decompress(\"hello world!hello world!hello world!hello world!\"))\n",
    "print(compress(decompress(\"hello world!hello world!hello world!hello world!\")))"
   ]
  },
  {
   "cell_type": "markdown",
   "id": "6f707410",
   "metadata": {},
   "source": [
    "Question 6: Please write a binary search function which searches an item in a sorted list. The function should return the index of element to be searched in the list."
   ]
  },
  {
   "cell_type": "code",
   "execution_count": 6,
   "id": "7f82ed07",
   "metadata": {},
   "outputs": [
    {
     "name": "stdout",
     "output_type": "stream",
     "text": [
      "11 is present in 4 index \n"
     ]
    }
   ],
   "source": [
    "def item(items,search):\n",
    "    lst = []\n",
    "    for i in enumerate(items):\n",
    "        lst.append(i)\n",
    "    for i,j in lst:\n",
    "        if j == search:\n",
    "            return f\"{j} is present in {i} index \"\n",
    "        \n",
    "print(item([\"apple\", \"banana\", \"cherry\",10,11,12,13.0,14.0,15.0],11))\n",
    "    "
   ]
  }
 ],
 "metadata": {
  "kernelspec": {
   "display_name": "Python 3 (ipykernel)",
   "language": "python",
   "name": "python3"
  },
  "language_info": {
   "codemirror_mode": {
    "name": "ipython",
    "version": 3
   },
   "file_extension": ".py",
   "mimetype": "text/x-python",
   "name": "python",
   "nbconvert_exporter": "python",
   "pygments_lexer": "ipython3",
   "version": "3.9.13"
  }
 },
 "nbformat": 4,
 "nbformat_minor": 5
}
