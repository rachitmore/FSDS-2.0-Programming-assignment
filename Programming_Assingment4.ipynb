{
 "cells": [
  {
   "cell_type": "markdown",
   "id": "d7501a5e",
   "metadata": {},
   "source": [
    "1.Write a Python Program to Find the Factorial of a Number?\n",
    "\n",
    "2.Write a Python Program to Display the multiplication Table?\n",
    "\n",
    "3.Write a Python Program to Print the Fibonacci sequence?\n",
    "\n",
    "4.Write a Python Program to Check Armstrong Number?\n",
    "\n",
    "5.Write a Python Program to Find Armstrong Number in an Interval?\n",
    "\n",
    "6.Write a Python Program to Find the Sum of Natural Numbers?"
   ]
  },
  {
   "cell_type": "markdown",
   "id": "2b457c92",
   "metadata": {},
   "source": [
    "1.Write a Python Program to Find the Factorial of a Number?"
   ]
  },
  {
   "cell_type": "code",
   "execution_count": 1,
   "id": "63852838",
   "metadata": {},
   "outputs": [
    {
     "data": {
      "text/plain": [
       "6"
      ]
     },
     "execution_count": 1,
     "metadata": {},
     "output_type": "execute_result"
    }
   ],
   "source": [
    "def fact(n):\n",
    "    if n == 1 or n==0:\n",
    "        return 1\n",
    "    else:\n",
    "        return n * fact(n-1)\n",
    "fact(3)"
   ]
  },
  {
   "cell_type": "markdown",
   "id": "fc839f3a",
   "metadata": {},
   "source": [
    "2.Write a Python Program to Display the multiplication Table?"
   ]
  },
  {
   "cell_type": "code",
   "execution_count": 2,
   "id": "05231c73",
   "metadata": {},
   "outputs": [
    {
     "name": "stdout",
     "output_type": "stream",
     "text": [
      "2 * 1 = 2\n",
      "\n",
      "\n",
      "2 * 2 = 4\n",
      "\n",
      "\n",
      "2 * 3 = 6\n",
      "\n",
      "\n",
      "2 * 4 = 8\n",
      "\n",
      "\n",
      "2 * 5 = 10\n",
      "\n",
      "\n",
      "2 * 6 = 12\n",
      "\n",
      "\n",
      "2 * 7 = 14\n",
      "\n",
      "\n",
      "2 * 8 = 16\n",
      "\n",
      "\n",
      "2 * 9 = 18\n",
      "\n",
      "\n",
      "2 * 10 = 20\n",
      "\n",
      "\n"
     ]
    }
   ],
   "source": [
    "def multiplication_table(n):\n",
    "    for i in range(1,11):\n",
    "        print(f\"{n} * {i} = {i*n}\")\n",
    "        print(\"\\n\")\n",
    "multiplication_table(2)"
   ]
  },
  {
   "cell_type": "markdown",
   "id": "648cae43",
   "metadata": {},
   "source": [
    "3.Write a Python Program to Print the Fibonacci sequence?"
   ]
  },
  {
   "cell_type": "code",
   "execution_count": 3,
   "id": "a6ce5899",
   "metadata": {},
   "outputs": [
    {
     "name": "stdout",
     "output_type": "stream",
     "text": [
      "1\n",
      "2\n",
      "3\n",
      "5\n",
      "8\n",
      "13\n"
     ]
    }
   ],
   "source": [
    "def fib(n):\n",
    "    a=0\n",
    "    b= 1\n",
    "    for i in range(n+1):\n",
    "        x = a+b\n",
    "        a = b\n",
    "        b = x\n",
    "        print(x)\n",
    "        \n",
    "fib(5)"
   ]
  },
  {
   "cell_type": "markdown",
   "id": "0554963d",
   "metadata": {},
   "source": [
    "4.Write a Python Program to Check Armstrong Number?"
   ]
  },
  {
   "cell_type": "code",
   "execution_count": 4,
   "id": "67bc074f",
   "metadata": {},
   "outputs": [
    {
     "name": "stdout",
     "output_type": "stream",
     "text": [
      "407 is Armstrong Number\n"
     ]
    }
   ],
   "source": [
    "def armstrong_number(n):\n",
    "    s = str(n)\n",
    "    l = len(s)\n",
    "    lst1 = []\n",
    "    for i in range(l):\n",
    "        for i in s[i]:\n",
    "            lst1.append(int(i)**l)\n",
    "    number = sum(lst1)\n",
    "    if number == n:\n",
    "        print(f\"{n} is Armstrong Number\")\n",
    "    else:\n",
    "        print(f\"{n} is not Armstrong Number\")\n",
    "\n",
    "    \n",
    "armstrong_number(407)    "
   ]
  },
  {
   "cell_type": "markdown",
   "id": "5d495263",
   "metadata": {},
   "source": [
    "5.Write a Python Program to Find Armstrong Number in an Interval?"
   ]
  },
  {
   "cell_type": "code",
   "execution_count": 5,
   "id": "4931998d",
   "metadata": {},
   "outputs": [
    {
     "name": "stdout",
     "output_type": "stream",
     "text": [
      "153 is Armstrong Number\n",
      "370 is Armstrong Number\n",
      "371 is Armstrong Number\n",
      "407 is Armstrong Number\n"
     ]
    }
   ],
   "source": [
    "def armstrong_number(l,u):\n",
    "    for j in range(l,u+1):\n",
    "        s = str(j)\n",
    "        l = len(s)\n",
    "        lst1 = []\n",
    "        for i in range(l):\n",
    "            for i in s[i]:\n",
    "                lst1.append(int(i)**l)\n",
    "        number = sum(lst1)\n",
    "        if number == j:\n",
    "            print(f\"{j} is Armstrong Number\")\n",
    "\n",
    "    \n",
    "armstrong_number(100,500)    "
   ]
  },
  {
   "cell_type": "markdown",
   "id": "16886509",
   "metadata": {},
   "source": [
    "6.Write a Python Program to Find the Sum of Natural Numbers?"
   ]
  },
  {
   "cell_type": "code",
   "execution_count": 6,
   "id": "30dbd54b",
   "metadata": {},
   "outputs": [
    {
     "data": {
      "text/plain": [
       "55"
      ]
     },
     "execution_count": 6,
     "metadata": {},
     "output_type": "execute_result"
    }
   ],
   "source": [
    "def sum_natural_number(n):\n",
    "        if n == 0:\n",
    "            pass\n",
    "        elif n == 1:\n",
    "            return 1\n",
    "        else:\n",
    "            return n + sum_natural_number(n-1)\n",
    "    \n",
    "sum_natural_number(10)"
   ]
  }
 ],
 "metadata": {
  "kernelspec": {
   "display_name": "Python 3 (ipykernel)",
   "language": "python",
   "name": "python3"
  },
  "language_info": {
   "codemirror_mode": {
    "name": "ipython",
    "version": 3
   },
   "file_extension": ".py",
   "mimetype": "text/x-python",
   "name": "python",
   "nbconvert_exporter": "python",
   "pygments_lexer": "ipython3",
   "version": "3.9.13"
  }
 },
 "nbformat": 4,
 "nbformat_minor": 5
}
