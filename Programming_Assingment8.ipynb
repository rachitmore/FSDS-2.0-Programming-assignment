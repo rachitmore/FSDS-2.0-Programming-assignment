{
 "cells": [
  {
   "cell_type": "markdown",
   "id": "ed293720",
   "metadata": {},
   "source": [
    "1.Write a Python Program to Add Two Matrices?\n",
    "\n",
    "2.Write a Python Program to Multiply Two Matrices?\n",
    "\n",
    "3.Write a Python Program to Transpose a Matrix?\n",
    "\n",
    "4.Write a Python Program to Sort Words in Alphabetic Order?\n",
    "\n",
    "5.Write a Python Program to Remove Punctuation From a String?"
   ]
  },
  {
   "cell_type": "markdown",
   "id": "e2dae007",
   "metadata": {},
   "source": [
    "1.Write a Python Program to Add Two Matrices?"
   ]
  },
  {
   "cell_type": "code",
   "execution_count": 1,
   "id": "da0cad58",
   "metadata": {},
   "outputs": [
    {
     "name": "stdout",
     "output_type": "stream",
     "text": [
      "[[10, 10, 12], [10, 10, 14], [10, 10, 5]]\n"
     ]
    }
   ],
   "source": [
    "import numpy as np\n",
    "def add_matrics(x,y):\n",
    "    \"\"\"This function works only if shape of two matrics same\"\"\"\n",
    "    shape_x = np.array(x).shape\n",
    "    shape_y = np.array(y).shape\n",
    "    a,b  = shape_x\n",
    "    try:\n",
    "        lst = []\n",
    "        for m in range(a):\n",
    "            lst.append(list(np.zeros(b))) \n",
    "        \n",
    "        for i in range(a):  \n",
    "            for j in range(b):\n",
    "                lst[i][j] = x[i][j] + y[i][j]\n",
    "\n",
    "        return lst\n",
    "    \n",
    "    except:\n",
    "        return \"Shape of matrics are not same \"\n",
    "x = [[1,2,4],\n",
    "    [4,5,9],\n",
    "    [7,8,3]]\n",
    " \n",
    "y = [[9,8,8],\n",
    "    [6,5,5],\n",
    "    [3,2,2]]\n",
    "print(add_matrics(x,y))"
   ]
  },
  {
   "cell_type": "markdown",
   "id": "6b930840",
   "metadata": {},
   "source": [
    "2.Write a Python Program to Multiply Two Matrices?"
   ]
  },
  {
   "cell_type": "code",
   "execution_count": 2,
   "id": "c287cd78",
   "metadata": {},
   "outputs": [
    {
     "name": "stdout",
     "output_type": "stream",
     "text": [
      "[[33.0, 26.0, 26.0], [93.0, 75.0, 75.0], [120.0, 102.0, 102.0]]\n"
     ]
    }
   ],
   "source": [
    "import numpy as np\n",
    "def multi_matrics(x,y):\n",
    "    \"\"\"The number of columns in the first matrix should be equal to the number of rows in the second matrix.\"\"\"\n",
    "    shape_x = np.array(x).shape\n",
    "    shape_y = np.array(y).shape\n",
    "    a,b  = shape_x\n",
    "    try:\n",
    "        lst = []\n",
    "        for m in range(a):\n",
    "            lst.append(list(np.zeros(b))) \n",
    "        \n",
    "        for i in range(a):\n",
    "            for j in range(b):\n",
    "                for k in range(a):\n",
    "                    lst[i][j] += x[i][k] * y[k][j]\n",
    "\n",
    "        return lst\n",
    "    \n",
    "    except:\n",
    "        return \"The number of columns in the first matrix should be equal to the number of rows in the second matrix.\"\n",
    "x = [[1,2,4],\n",
    "    [4,5,9],\n",
    "    [7,8,3]]\n",
    " \n",
    "y = [[9,8,8],\n",
    "    [6,5,5],\n",
    "    [3,2,2]]\n",
    "print(multi_matrics(x,y))"
   ]
  },
  {
   "cell_type": "markdown",
   "id": "ca4a8b89",
   "metadata": {},
   "source": [
    "3.Write a Python Program to Transpose a Matrix?"
   ]
  },
  {
   "cell_type": "code",
   "execution_count": 3,
   "id": "332e8c6d",
   "metadata": {},
   "outputs": [
    {
     "name": "stdout",
     "output_type": "stream",
     "text": [
      "Original Matrics [[1, 2, 3, 4], [5, 6, 7, 8], [9, 10, 11, 12], [13, 14, 15, 16]]\n",
      "Transpose matrics [[1, 5, 9, 13], [5, 6, 10, 14], [9, 10, 11, 15], [13, 14, 15, 16]]\n"
     ]
    }
   ],
   "source": [
    "def transpose(x):\n",
    "    y = x[:][:]\n",
    "    shape = (list(np.array(x).shape))[0]\n",
    "    for i in range(shape):\n",
    "        for j in range(shape):\n",
    "            y[i][j] = x[j][i]\n",
    "    return y\n",
    " \n",
    "x = [[1, 2, 3, 4],\n",
    "     [5, 6, 7, 8],\n",
    "     [9, 10, 11, 12],\n",
    "     [13, 14, 15, 16]]\n",
    " \n",
    "print(f\"Original Matrics {x}\")\n",
    "print(f\"Transpose matrics {transpose(x)}\")\n"
   ]
  },
  {
   "cell_type": "markdown",
   "id": "019a3a97",
   "metadata": {},
   "source": [
    "4.Write a Python Program to Sort Words in Alphabetic Order?"
   ]
  },
  {
   "cell_type": "code",
   "execution_count": 4,
   "id": "54078791",
   "metadata": {},
   "outputs": [
    {
     "data": {
      "text/plain": [
       "'More My Rachit is name'"
      ]
     },
     "execution_count": 4,
     "metadata": {},
     "output_type": "execute_result"
    }
   ],
   "source": [
    "def sort_words(words):\n",
    "    words = sorted(words.split())\n",
    "    words = \" \".join(words)\n",
    "    return words\n",
    "\n",
    "sort_words(\"My name is Rachit More\")"
   ]
  },
  {
   "cell_type": "markdown",
   "id": "d5f14b51",
   "metadata": {},
   "source": [
    "5.Write a Python Program to Remove Punctuation From a String?"
   ]
  },
  {
   "cell_type": "code",
   "execution_count": 5,
   "id": "1803ff45",
   "metadata": {},
   "outputs": [
    {
     "name": "stdout",
     "output_type": "stream",
     "text": [
      "Original Sentence : This is sentence which is full of punctaution .,?!:;$#%^&*@ \n",
      "Removed puntuation sentence : This is sentence which is full of punctaution  \n"
     ]
    }
   ],
   "source": [
    "def removePunctuation(string):\n",
    "    punctuation = [\".\", \",\", \"?\", \"!\", \":\", \";\", \"%\", \"&\", \"-\", \"<\", \">\", \"+\", \"@\", \"*\", \"÷\", \"_\", \"=\", \"$\", \"#\", \"^\"]\n",
    "    for i in string:\n",
    "        if i in punctuation:\n",
    "            string = string.replace(i,\"\")\n",
    "    \n",
    "    return f\"Removed puntuation sentence : {string}\"\n",
    "\n",
    "s = \"This is sentence which is full of punctaution .,?!:;$#%^&*@ \" \n",
    "print(f\"Original Sentence : {s}\")\n",
    "print(removePunctuation(s))"
   ]
  }
 ],
 "metadata": {
  "kernelspec": {
   "display_name": "Python 3 (ipykernel)",
   "language": "python",
   "name": "python3"
  },
  "language_info": {
   "codemirror_mode": {
    "name": "ipython",
    "version": 3
   },
   "file_extension": ".py",
   "mimetype": "text/x-python",
   "name": "python",
   "nbconvert_exporter": "python",
   "pygments_lexer": "ipython3",
   "version": "3.9.13"
  }
 },
 "nbformat": 4,
 "nbformat_minor": 5
}
