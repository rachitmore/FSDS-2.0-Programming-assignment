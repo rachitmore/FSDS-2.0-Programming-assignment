{
 "cells": [
  {
   "cell_type": "markdown",
   "id": "b8a4b1fd",
   "metadata": {},
   "source": [
    "1. Write a Python program to Extract Unique values dictionary values?\n",
    "\n",
    "2. Write a Python program to find the sum of all items in a dictionary?\n",
    "\n",
    "3. Write a Python program to Merging two Dictionaries?\n",
    "\n",
    "4. Write a Python program to convert key-values list to flat dictionary?\n",
    "\n",
    "5. Write a Python program to insertion at the beginning in OrderedDict?\n",
    "\n",
    "6. Write a Python program to check order of character in string using OrderedDict()?\n",
    "\n",
    "7. Write a Python program to sort Python Dictionaries by Key or Value?"
   ]
  },
  {
   "cell_type": "markdown",
   "id": "1ee13413",
   "metadata": {},
   "source": [
    "1. Write a Python program to Extract Unique values dictionary values?"
   ]
  },
  {
   "cell_type": "code",
   "execution_count": 1,
   "id": "3313af29",
   "metadata": {},
   "outputs": [
    {
     "name": "stdout",
     "output_type": "stream",
     "text": [
      "['Ford', 'Mustang', 1964, 'Kathmandu', 'Rome', 'London']\n"
     ]
    }
   ],
   "source": [
    "def extract_unique(dic):\n",
    "    values_list = list(dic.values())\n",
    "    unique_list = [] \n",
    "    \n",
    "    for i in values_list:\n",
    "        if i not in unique_list:\n",
    "            unique_list.append(i)\n",
    "    \n",
    "    return unique_list\n",
    "\n",
    "dictionary = {\n",
    "    \"brand\" : \"Ford\",\n",
    "    \"brand\" : \"Ford\",\n",
    "    \"model\" : \"Mustang\",\n",
    "    \"model\" : \"Mustang\",\n",
    "    \"year\" : 1964,\n",
    "    \"year\" : 1964,\n",
    "    \"Nepal\" : \"Kathmandu\",\n",
    "    \"Italy\" : \"Rome\",\n",
    "    \"England\" : \"London\"\n",
    "    \n",
    "}\n",
    "print(extract_unique(dictionary))"
   ]
  },
  {
   "cell_type": "markdown",
   "id": "8795b593",
   "metadata": {},
   "source": [
    "2. Write a Python program to find the sum of all items in a dictionary?"
   ]
  },
  {
   "cell_type": "code",
   "execution_count": 2,
   "id": "37bcbdaf",
   "metadata": {},
   "outputs": [
    {
     "name": "stdout",
     "output_type": "stream",
     "text": [
      "60\n"
     ]
    }
   ],
   "source": [
    "def sum_of_item(dic):\n",
    "    \n",
    "    list_values = list(dic.values())\n",
    "    \n",
    "    return sum(list_values)\n",
    "\n",
    "\n",
    "d = {'k1' : 10,\n",
    "    'k2' :  11,\n",
    "    'k3' : 12,\n",
    "    'k4' : 13,\n",
    "    'k5' :14}\n",
    "print(sum_of_item(d))"
   ]
  },
  {
   "cell_type": "markdown",
   "id": "dc6d3ceb",
   "metadata": {},
   "source": [
    "3. Write a Python program to Merging two Dictionaries?"
   ]
  },
  {
   "cell_type": "code",
   "execution_count": 3,
   "id": "854bd8cc",
   "metadata": {},
   "outputs": [
    {
     "name": "stdout",
     "output_type": "stream",
     "text": [
      "{'k1': 10, 'k2': 11, 'k3': 12, 'k4': 13, 'k5': 14, 'brand': 'Ford', 'model': 'Mustang', 'year': 1964, 'Nepal': 'Kathmandu', 'Italy': 'Rome', 'England': 'London'}\n"
     ]
    }
   ],
   "source": [
    "def merge_dictionaries(d1,d2):\n",
    "    d = d1.copy()\n",
    "    d.update(d2)\n",
    "    return d \n",
    "\n",
    "d1 = d\n",
    "d2 = dictionary\n",
    "print(merge_dictionaries(d1,d2))"
   ]
  },
  {
   "cell_type": "markdown",
   "id": "9ff042c3",
   "metadata": {},
   "source": [
    "4. Write a Python program to convert key-values list to flat dictionary?"
   ]
  },
  {
   "cell_type": "code",
   "execution_count": 4,
   "id": "3d143d1f",
   "metadata": {},
   "outputs": [
    {
     "name": "stdout",
     "output_type": "stream",
     "text": [
      "{'Rachit': 'Male', 'Rahul': 'Male', 'Sonal': 'Female', 'Gaurav': 'Male', 'Raghv': 'Male'}\n"
     ]
    }
   ],
   "source": [
    "def flat_dictionary(d):\n",
    "    \n",
    "    list_values1 = list(d.values())[0]\n",
    "    list_values2 = list(d.values())[1]\n",
    "    \n",
    "    return dict(zip(list_values1,list_values2))\n",
    "   \n",
    "    \n",
    "    \n",
    "d = {\"Student\" : [\"Rachit\",\"Rahul\",\"Sonal\",\"Gaurav\",\"Raghv\"],\n",
    "    \"Gender\" : [\"Male\",\"Male\",\"Female\",\"Male\",\"Male\"]}\n",
    "print(flat_dictionary(d))"
   ]
  },
  {
   "cell_type": "markdown",
   "id": "bea05a45",
   "metadata": {},
   "source": [
    "5. Write a Python program to insertion at the beginning in OrderedDict?"
   ]
  },
  {
   "cell_type": "code",
   "execution_count": 5,
   "id": "c52b691b",
   "metadata": {},
   "outputs": [
    {
     "name": "stdout",
     "output_type": "stream",
     "text": [
      "Ordered Dictionary after insertion : OrderedDict([('Jan', '1'), ('Feb', '2'), ('Mar', '3'), ('April', '4'), ('May', '5'), ('June', '6')])\n"
     ]
    }
   ],
   "source": [
    "from collections import OrderedDict\n",
    "  \n",
    "iniordered_dict = OrderedDict([('Feb', '2'), ('Mar', '3'), ('April', '4'), ('June', '6')])\n",
    "\n",
    "iniordered_dict.update({'May':'5'})\n",
    "iniordered_dict.update({'Jan':'1'})\n",
    "\n",
    "iniordered_dict.move_to_end('May', last = False) #5\n",
    "iniordered_dict.move_to_end('April', last = False) #4\n",
    "iniordered_dict.move_to_end('Mar', last = False) #3\n",
    "iniordered_dict.move_to_end('Feb', last = False) #2\n",
    "iniordered_dict.move_to_end('Jan', last = False) #1\n",
    "print(f\"Ordered Dictionary after insertion : {(iniordered_dict)}\")"
   ]
  },
  {
   "cell_type": "markdown",
   "id": "7133fbbe",
   "metadata": {},
   "source": [
    "6. Write a Python program to check order of character in string using OrderedDict()?"
   ]
  },
  {
   "cell_type": "code",
   "execution_count": 6,
   "id": "dccda426",
   "metadata": {},
   "outputs": [
    {
     "name": "stdout",
     "output_type": "stream",
     "text": [
      "Pattern not matched\n"
     ]
    }
   ],
   "source": [
    "from collections import OrderedDict \n",
    "  \n",
    "def checkOrderofString(string, pattern): \n",
    " \n",
    "    dic = OrderedDict.fromkeys(string)    \n",
    "    p = 0\n",
    "    for key,value in dic.items(): \n",
    "        \n",
    "        if (key == pattern[p]): \n",
    "            p = p + 1\n",
    "           \n",
    "        if (p == (len(pattern))):            \n",
    "            return True\n",
    "    \n",
    "    return False\n",
    "  \n",
    "string = \"My name is rachit More\"\n",
    "pattern = \"is name\"\n",
    "\n",
    "if checkOrderofString(string,pattern):\n",
    "    print(\"Pattern matched\")\n",
    "else:\n",
    "    print(\"Pattern not matched\")\n"
   ]
  },
  {
   "cell_type": "markdown",
   "id": "2473e4f5",
   "metadata": {},
   "source": [
    "7. Write a Python program to sort Python Dictionaries by Key or Value?"
   ]
  },
  {
   "cell_type": "code",
   "execution_count": 7,
   "id": "e810277e",
   "metadata": {},
   "outputs": [
    {
     "data": {
      "text/plain": [
       "([('a', 4), ('b', 5), ('c', 1), ('d', 3), ('e', 2)],\n",
       " ['a', 'b', 'c', 'd', 'e'],\n",
       " [1, 2, 3, 4, 5])"
      ]
     },
     "execution_count": 7,
     "metadata": {},
     "output_type": "execute_result"
    }
   ],
   "source": [
    "def sorted_dictionaries(dictionary):\n",
    "    sorted_by_item = a = sorted(dictionary.items())\n",
    "    sorted_key = b = sorted(dictionary.keys())\n",
    "    sorted_value = c = sorted(dictionary.values())\n",
    "    \n",
    "    return a,b,c\n",
    "\n",
    "d = {\"e\":2, \"c\":1, \"d\":3, \"a\":4, \"b\":5}\n",
    "sorted_dictionaries(d)"
   ]
  }
 ],
 "metadata": {
  "kernelspec": {
   "display_name": "Python 3 (ipykernel)",
   "language": "python",
   "name": "python3"
  },
  "language_info": {
   "codemirror_mode": {
    "name": "ipython",
    "version": 3
   },
   "file_extension": ".py",
   "mimetype": "text/x-python",
   "name": "python",
   "nbconvert_exporter": "python",
   "pygments_lexer": "ipython3",
   "version": "3.9.13"
  }
 },
 "nbformat": 4,
 "nbformat_minor": 5
}
