{
 "cells": [
  {
   "cell_type": "markdown",
   "id": "973b24d1",
   "metadata": {},
   "source": [
    "1.Write a Python Program to find sum of array?\n",
    "\n",
    "2.Write a Python Program to find largest element in an array?\n",
    "\n",
    "3.Write a Python Program for array rotation?\n",
    "\n",
    "4.Write a Python Program to Split the array and add the first part to the end?\n",
    "\n",
    "5.Write a Python Program to check if given array is Monotonic?"
   ]
  },
  {
   "cell_type": "markdown",
   "id": "9235b621",
   "metadata": {},
   "source": [
    "1.Write a Python Program to find sum of array?"
   ]
  },
  {
   "cell_type": "code",
   "execution_count": 1,
   "id": "9d9e07fe",
   "metadata": {},
   "outputs": [
    {
     "data": {
      "text/plain": [
       "75"
      ]
     },
     "execution_count": 1,
     "metadata": {},
     "output_type": "execute_result"
    }
   ],
   "source": [
    "def sum_array(n):\n",
    "    sum_ar = 0\n",
    "    for i in n:\n",
    "        sum_ar += i\n",
    "    return sum_ar\n",
    "\n",
    "sum_array([15,14,13,12,11,10])"
   ]
  },
  {
   "cell_type": "markdown",
   "id": "e6ad46da",
   "metadata": {},
   "source": [
    "2.Write a Python Program to find largest element in an array?"
   ]
  },
  {
   "cell_type": "code",
   "execution_count": 2,
   "id": "7c64144b",
   "metadata": {},
   "outputs": [
    {
     "data": {
      "text/plain": [
       "15"
      ]
     },
     "execution_count": 2,
     "metadata": {},
     "output_type": "execute_result"
    }
   ],
   "source": [
    "def largest_element(l):\n",
    "    a = 0\n",
    "    for i in l:\n",
    "        if i>a:\n",
    "            a = i\n",
    "        else:\n",
    "            pass\n",
    "    return a\n",
    "\n",
    "largest_element([4,5,6,0,8,7,1,9,15])\n",
    "    "
   ]
  },
  {
   "cell_type": "markdown",
   "id": "d1f29280",
   "metadata": {},
   "source": [
    "3.Write a Python Program for array rotation?"
   ]
  },
  {
   "cell_type": "code",
   "execution_count": 22,
   "id": "a5f30594",
   "metadata": {},
   "outputs": [
    {
     "name": "stdout",
     "output_type": "stream",
     "text": [
      "[9, 15, 4, 5, 6, 0, 8, 7, 1]\n"
     ]
    }
   ],
   "source": [
    "def largest_element(l,r):\n",
    "    n = len(l)\n",
    "    lst = l[n-r:] + l[:n-r]\n",
    "    \n",
    "    return lst\n",
    "print(largest_element([4,5,6,0,8,7,1,9,15],2))"
   ]
  },
  {
   "cell_type": "markdown",
   "id": "8a4372b0",
   "metadata": {},
   "source": [
    "4.Write a Python Program to Split the array and add the first part to the end?"
   ]
  },
  {
   "cell_type": "code",
   "execution_count": 4,
   "id": "0f912b2b",
   "metadata": {},
   "outputs": [
    {
     "name": "stdout",
     "output_type": "stream",
     "text": [
      "[3, 4, 1, 2]\n",
      "[4, 5, 3, 1, 2]\n"
     ]
    }
   ],
   "source": [
    "def split_array(n):\n",
    "    c = int(len(n)/2) \n",
    "    if len(n)%2==0:\n",
    "        l = n[c:] + n[:c]\n",
    "        return l\n",
    "    else:\n",
    "        l2 = n[c+1:] + n[:c]\n",
    "        l2.insert(c,n[c])\n",
    "        return l2\n",
    "        \n",
    "        \n",
    "print(split_array([1,2,3,4]))\n",
    "print(split_array([1,2,3,4,5]))\n",
    "        "
   ]
  },
  {
   "cell_type": "markdown",
   "id": "9cd61da7",
   "metadata": {},
   "source": [
    "5.Write a Python Program to check if given array is Monotonic?"
   ]
  },
  {
   "cell_type": "code",
   "execution_count": 5,
   "id": "e9fe4c8e",
   "metadata": {},
   "outputs": [
    {
     "name": "stdout",
     "output_type": "stream",
     "text": [
      "Array is not monotonic\n",
      "Array is monotonic\n"
     ]
    }
   ],
   "source": [
    "def is_monotonic(lst):\n",
    "    flag = False\n",
    "    if all((lst[i] <= lst[i+1] for i in range(len(lst)-1)) or (lst[i] >= lst[i+1] for i in range(len(lst)-1))):\n",
    "        flag = True\n",
    "    \n",
    "    if flag:\n",
    "        return \"Array is monotonic\"\n",
    "    else:\n",
    "        return \"Array is not monotonic\"\n",
    "        \n",
    "print(is_monotonic((20,10,30,40)))\n",
    "print(is_monotonic((5,10,30,50)))"
   ]
  }
 ],
 "metadata": {
  "kernelspec": {
   "display_name": "Python 3 (ipykernel)",
   "language": "python",
   "name": "python3"
  },
  "language_info": {
   "codemirror_mode": {
    "name": "ipython",
    "version": 3
   },
   "file_extension": ".py",
   "mimetype": "text/x-python",
   "name": "python",
   "nbconvert_exporter": "python",
   "pygments_lexer": "ipython3",
   "version": "3.9.13"
  }
 },
 "nbformat": 4,
 "nbformat_minor": 5
}
